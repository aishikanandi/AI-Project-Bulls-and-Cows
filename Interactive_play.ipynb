{
 "cells": [
  {
   "cell_type": "code",
   "execution_count": 1,
   "metadata": {},
   "outputs": [
    {
     "name": "stdout",
     "output_type": "stream",
     "text": [
      "pygame 2.5.2 (SDL 2.28.2, Python 3.10.12)\n",
      "Hello from the pygame community. https://www.pygame.org/contribute.html\n"
     ]
    }
   ],
   "source": [
    "import pickle\n",
    "import random\n",
    "import time\n",
    "from environment import Environment\n",
    "from mastermind import Mastermind\n",
    "from agent import Agent\n",
    "import pygame\n",
    "import sys\n",
    "from random import randint"
   ]
  },
  {
   "cell_type": "code",
   "execution_count": 2,
   "metadata": {},
   "outputs": [],
   "source": [
    "pygame.init()\n",
    "env = Mastermind(human=True)\n"
   ]
  },
  {
   "cell_type": "code",
   "execution_count": 3,
   "metadata": {},
   "outputs": [],
   "source": [
    "## load trained q-learning agent.\n",
    "\n",
    "with open('learned_q_agent.pkl', 'rb') as f:\n",
    "    q_agent = pickle.load(f)\n",
    "\n",
    "def interactive_play(agent):\n",
    "    # secret = input('please enter a secret code any pattern between 0000 - 9999')\n",
    "    # '''interactive guesses on pressing enter'''\n",
    "    secret = \"\"\n",
    "    while True:\n",
    "        for ev in pygame.event.get():\n",
    "            #  this if is working\n",
    "            if ev.type == pygame.QUIT:\n",
    "                pygame.quit()\n",
    "                sys.exit()\n",
    "            # this below is when ever user presses anything on the ui\n",
    "            elif ev.type == pygame.MOUSEBUTTONDOWN:\n",
    "                # this below is for input\n",
    "                if env.palet_rect.collidepoint(ev.pos) and len(secret) < 4:\n",
    "                    x, y = ev.pos\n",
    "                    x -= env.palet_rect.x\n",
    "                    y -= env.palet_rect.y\n",
    "                    try:\n",
    "                        if env.palet_mask.get_at((x, y)):\n",
    "                            secret = secret+str(x // 30)\n",
    "                            env.screen.blit(env.palette, (80 + (len(secret) - 1) * 30, 20),\n",
    "                                            (x // 30 * 30, 0, 30, 30))\n",
    "                            pygame.display.flip()\n",
    "                    except:\n",
    "                        print(\"except\")\n",
    "                        continue\n",
    "                # this is for reset\n",
    "                elif env.reset_rect.collidepoint(ev.pos):\n",
    "                    secret = \"\"\n",
    "                    env.screen.blit(env.mmbg, (0, 0))\n",
    "                    env.screen.blit(env.palette, env.palet_rect)\n",
    "                    pygame.display.flip()    \n",
    "                # this is for go where evaluation should be added\n",
    "                elif env.go_rect.collidepoint(ev.pos):\n",
    "                    if (len(secret) < 4):\n",
    "                            raise ValueError(\"please choose 4 numbers\")\n",
    "\n",
    "                    ready = True\n",
    "                    # Deploy AI agent function here\n",
    "\n",
    "                    agent.reset_possible_states() \n",
    "                    env1 = Environment(secret)\n",
    "                    for ligne in range(10):\n",
    "\n",
    "\n",
    "                        guess = agent.get_best_action() # prediction = parse_combi(ans[0], env.list_action)\n",
    "                        feedback = env1.score(secret, guess) # feedback = env.feedback(prediction)\n",
    "                        agent.restrict_possible_states(guess, feedback)\n",
    "                        for i in range(4):\n",
    "                            r = env.screen.blit(env.palette, ((i + 1) * 30 + 20, ligne * 35 + 70),\n",
    "                                                (int(guess[i]) * 30, 0, 30, 30))\n",
    "                            pygame.display.update(r)\n",
    "                        placed, misplaced = feedback[0],feedback[1]\n",
    "                        print(placed,misplaced)\n",
    "                        for e, c in enumerate([(255, 0, 0)] * placed + [(255, 255, 255)] * misplaced):\n",
    "                            r = pygame.draw.circle(env.screen, c, (190 + e * 10, ligne * 35 + 85), 2, 0)\n",
    "                            pygame.display.update(r)\n",
    "                        time.sleep(1)\n",
    "                        if secret == guess:\n",
    "                            break\n",
    "\n",
    "                    if secret == guess:\n",
    "                        pygame.display.set_caption('WON!')\n",
    "                    else:\n",
    "                        pygame.display.set_caption('LOST!')\n",
    "                else:\n",
    "                    break\n",
    "\n",
    "\n",
    "\n",
    "\n",
    "\n",
    "\n",
    "\n",
    "        # agent.reset_possible_states()\n",
    "        # guess = agent.get_best_action()\n",
    "        # env1 = Environment(secret)\n",
    "        # print(f\"initial guess = {guess}\")\n",
    "        # feedback = env1.score(secret, guess)\n",
    "        # print(feedback)\n",
    "        # agent.restrict_possible_states(guess, feedback)\n",
    "        # guess = agent.get_best_action()\n",
    "        # print(f\"next guess = {guess}\")\n",
    "        # time.sleep(1)\n",
    "        "
   ]
  },
  {
   "cell_type": "code",
   "execution_count": 4,
   "metadata": {},
   "outputs": [
    {
     "name": "stdout",
     "output_type": "stream",
     "text": [
      "0 3\n",
      "0 2\n",
      "1 1\n",
      "0 2\n",
      "4 0\n"
     ]
    },
    {
     "ename": "SystemExit",
     "evalue": "",
     "output_type": "error",
     "traceback": [
      "An exception has occurred, use %tb to see the full traceback.\n",
      "\u001b[0;31mSystemExit\u001b[0m\n"
     ]
    },
    {
     "name": "stderr",
     "output_type": "stream",
     "text": [
      "/home/sgccs/.local/lib/python3.10/site-packages/IPython/core/interactiveshell.py:3516: UserWarning: To exit: use 'exit', 'quit', or Ctrl-D.\n",
      "  warn(\"To exit: use 'exit', 'quit', or Ctrl-D.\", stacklevel=1)\n"
     ]
    }
   ],
   "source": [
    "\n",
    "ready = env.ready\n",
    "interactive_play(q_agent)\n",
    "pygame.quit()\n",
    "sys.exit()"
   ]
  },
  {
   "cell_type": "code",
   "execution_count": null,
   "metadata": {},
   "outputs": [],
   "source": []
  }
 ],
 "metadata": {
  "kernelspec": {
   "display_name": "Python 3 (ipykernel)",
   "language": "python",
   "name": "python3"
  },
  "language_info": {
   "codemirror_mode": {
    "name": "ipython",
    "version": 3
   },
   "file_extension": ".py",
   "mimetype": "text/x-python",
   "name": "python",
   "nbconvert_exporter": "python",
   "pygments_lexer": "ipython3",
   "version": "3.10.12"
  }
 },
 "nbformat": 4,
 "nbformat_minor": 4
}
